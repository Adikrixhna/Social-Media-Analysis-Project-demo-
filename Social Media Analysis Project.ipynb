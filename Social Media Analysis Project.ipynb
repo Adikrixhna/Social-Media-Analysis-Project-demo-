#import the libraries
import pandas as pd
import numpy as np
import matplotlib.pyplot as plt
import seaborn as sns
import random

#Generate Random Social Media Data
categories = ["Food", "Travel", "Fashion", "Fitness", "Music", "Culture", "Family", "Health"]

# set the number of data points (n)
n = 500

# Generate random data dictionary
data = {
    'Date': pd.date_range(start='2024-01-01', periods=n),
    'Category': [random.choice(categories) for _ in range(n)],
    'Likes': np.random.randint(0, 10000, size=n)
}

# create a pandas DataFrame from the dictionary
df = pd.DataFrame(data)

#Load data into DataFrame and Explore
#print the first 5 rows of the DataFrame
print(df.head())
print(df.info())
print(df.describe(include='all'))
print(df['Category'].value_counts())

#drop null values
df = df.dropna()

#remove duplicate rows
df = df.drop_duplicates()
df['Date'] = pd.to_datetime(df['Date'])

print(df.info())

# Visualization with Seaborn
sns.histplot(df['Likes'])
plt.show()

sns.boxplot(
    x = "Category",
    y = "Likes",
    showmeans=True,
    data=df
)
plt.show()

# Statistics with Pandas
print("Mean Likes:", df['Likes'].mean())

# Grouped mean by Category
category_means = df.groupby('Category')['Likes'].mean()
print("\nMean Likes by Category:")
print(category_means)

